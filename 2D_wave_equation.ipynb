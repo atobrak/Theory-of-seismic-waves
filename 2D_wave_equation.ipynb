{
  "nbformat": 4,
  "nbformat_minor": 0,
  "metadata": {
    "colab": {
      "provenance": [],
      "authorship_tag": "ABX9TyPCIPDSDWAN/JuVC3oTiy/5",
      "include_colab_link": true
    },
    "kernelspec": {
      "name": "python3",
      "display_name": "Python 3"
    },
    "language_info": {
      "name": "python"
    }
  },
  "cells": [
    {
      "cell_type": "markdown",
      "metadata": {
        "id": "view-in-github",
        "colab_type": "text"
      },
      "source": [
        "<a href=\"https://colab.research.google.com/github/atobrak/Theory-of-seismic-waves/blob/main/2D_wave_equation.ipynb\" target=\"_parent\"><img src=\"https://colab.research.google.com/assets/colab-badge.svg\" alt=\"Open In Colab\"/></a>"
      ]
    },
    {
      "cell_type": "code",
      "source": [
        "from google.colab import drive\n",
        "drive.mount('/content/drive')"
      ],
      "metadata": {
        "colab": {
          "base_uri": "https://localhost:8080/"
        },
        "id": "mUeEPOCESwb9",
        "outputId": "47b2c775-315b-427a-9394-e791ac2b19a1"
      },
      "execution_count": 1,
      "outputs": [
        {
          "output_type": "stream",
          "name": "stdout",
          "text": [
            "Drive already mounted at /content/drive; to attempt to forcibly remount, call drive.mount(\"/content/drive\", force_remount=True).\n"
          ]
        }
      ]
    },
    {
      "cell_type": "code",
      "source": [
        "cd drive"
      ],
      "metadata": {
        "colab": {
          "base_uri": "https://localhost:8080/"
        },
        "id": "GBOk8KzXSy45",
        "outputId": "4849f9c1-634e-4740-a75a-08bb38ea335a"
      },
      "execution_count": 2,
      "outputs": [
        {
          "output_type": "stream",
          "name": "stdout",
          "text": [
            "/content/drive\n"
          ]
        }
      ]
    },
    {
      "cell_type": "code",
      "source": [
        "cd MyDrive/"
      ],
      "metadata": {
        "colab": {
          "base_uri": "https://localhost:8080/"
        },
        "id": "zVG29fRzSy8l",
        "outputId": "89a6989d-1fda-4135-9983-e80c6714410e"
      },
      "execution_count": 3,
      "outputs": [
        {
          "output_type": "stream",
          "name": "stdout",
          "text": [
            "/content/drive/MyDrive\n"
          ]
        }
      ]
    },
    {
      "cell_type": "code",
      "source": [
        "cd seismic_waves_1D"
      ],
      "metadata": {
        "colab": {
          "base_uri": "https://localhost:8080/"
        },
        "id": "KASpHSwiS3Ry",
        "outputId": "705a72fb-f9b9-4ea2-a1cc-48f2521ae528"
      },
      "execution_count": 4,
      "outputs": [
        {
          "output_type": "stream",
          "name": "stdout",
          "text": [
            "/content/drive/MyDrive/seismic_waves_1D\n"
          ]
        }
      ]
    },
    {
      "cell_type": "code",
      "source": [],
      "metadata": {
        "id": "U_X0vtcDSy_X"
      },
      "execution_count": 4,
      "outputs": []
    },
    {
      "cell_type": "code",
      "execution_count": 5,
      "metadata": {
        "id": "sTOqqKiNV6q6"
      },
      "outputs": [],
      "source": [
        "import numpy as np\n",
        "\n",
        "import pandas as pd\n",
        "\n",
        "import matplotlib.pyplot as plt\n",
        "\n"
      ]
    },
    {
      "cell_type": "code",
      "source": [
        "# rudimentary parameters\n",
        "\n",
        "nt = 2500\n",
        "nx = 601\n",
        "nz = nx\n",
        "\n",
        "c = 343.0\n",
        "courant_number = 0.60\n",
        "sx = int(nx/2) # center x\n",
        "sz = int(nz/2) # center z\n",
        "#f0 = 200.0\n",
        "xmax = 600\n",
        "\n",
        "\n",
        "inter_bound = 300 # describe loaction when material properties change."
      ],
      "metadata": {
        "id": "xXp0QNEQWAAQ"
      },
      "execution_count": 6,
      "outputs": []
    },
    {
      "cell_type": "code",
      "source": [
        "# initialize pressure field\n",
        "\n",
        "ap = np.zeros((nx, nz), dtype = float)\n",
        "apnew = np.zeros((nx, nz), dtype = float)\n",
        "apold = np.zeros((nx, nz), dtype = float)\n",
        "ad2px = np.zeros((nx, nz), dtype = float)\n",
        "ad2pz = np.zeros((nx, nz), dtype = float)\n",
        "\n",
        "\n",
        "#ap_sec = -np.abs(ap[int(nx/2):nx, 1:int(nz/2)].T)"
      ],
      "metadata": {
        "id": "xMsrYMeeWADm"
      },
      "execution_count": 7,
      "outputs": []
    },
    {
      "cell_type": "code",
      "source": [
        "# initializing domain\n",
        "dx = xmax/(nx-1)\n",
        "x = np.arange(0,nx) * dx\n",
        "z = np.arange(0, nx) * dx\n",
        "dt = courant_number * dx/c"
      ],
      "metadata": {
        "id": "YA4ove3bWAF9"
      },
      "execution_count": 8,
      "outputs": []
    },
    {
      "cell_type": "code",
      "source": [
        "dx"
      ],
      "metadata": {
        "colab": {
          "base_uri": "https://localhost:8080/"
        },
        "id": "lLmFP2_G10A1",
        "outputId": "eb871420-cb00-4023-f1b0-7736839eaf48"
      },
      "execution_count": 9,
      "outputs": [
        {
          "output_type": "execute_result",
          "data": {
            "text/plain": [
              "1.0"
            ]
          },
          "metadata": {},
          "execution_count": 9
        }
      ]
    },
    {
      "cell_type": "code",
      "source": [
        "dt"
      ],
      "metadata": {
        "colab": {
          "base_uri": "https://localhost:8080/"
        },
        "id": "WovVSRkv10MH",
        "outputId": "48385e3a-fb3a-4775-8fce-b484abd0d7b9"
      },
      "execution_count": 10,
      "outputs": [
        {
          "output_type": "execute_result",
          "data": {
            "text/plain": [
              "0.001749271137026239"
            ]
          },
          "metadata": {},
          "execution_count": 10
        }
      ]
    },
    {
      "cell_type": "code",
      "source": [
        "#x"
      ],
      "metadata": {
        "id": "I3A_TD9-QC_3"
      },
      "execution_count": 11,
      "outputs": []
    },
    {
      "cell_type": "code",
      "source": [],
      "metadata": {
        "id": "hU-4fPObQDHu"
      },
      "execution_count": 11,
      "outputs": []
    },
    {
      "cell_type": "code",
      "source": [
        "# def ricker(f, size, dt=1):\n",
        "#     t = np.int_(np.linspace(-size, size, (2*size+1)/dt))\n",
        "#     y = (1.0 - 2.0*(np.pi**2)*(f**2)*(t**2)) * np.exp(-(np.pi**2)*(f**2)*(t**2))\n",
        "#     data = np.hstack((t[:,np.newaxis],y[:,np.newaxis]))\n",
        "#     return data"
      ],
      "metadata": {
        "id": "aSMg-ubudAW_"
      },
      "execution_count": 12,
      "outputs": []
    },
    {
      "cell_type": "code",
      "source": [
        "# source initialization\n",
        "t = np.arange(1, nt+1) * dt\n",
        "\n",
        "t0 = 0.5\n",
        "f = 10\n",
        "\n",
        "\n",
        "\n",
        "\n",
        "\n",
        "\n",
        "# spatial source function\n",
        "\n",
        "sg = np.zeros((nx, nz), dtype = float)\n",
        "sigma = 1.5 * dx\n",
        "x0 = x[sx-1]\n",
        "z0 = z[sz-1]\n",
        "\n",
        "for i in range(nx):\n",
        "  for j in range(nz):\n",
        "    #sg[i,j] = np.exp(((x[i]-x0)**2 + (z[j]-z0)**2))\n",
        "    sg[i,j] = np.exp(-1/sigma**2 *((x[i]-x0)**2 + (z[j]-z0)**2))\n",
        "\n",
        "\n",
        "\n",
        "#sg = sg\n",
        "sg = sg/np.amax(sg)\n"
      ],
      "metadata": {
        "id": "AtuRcRPqWALS"
      },
      "execution_count": 13,
      "outputs": []
    },
    {
      "cell_type": "code",
      "source": [
        "from matplotlib.cm import ScalarMappable"
      ],
      "metadata": {
        "id": "IqVfDfLhJOA3"
      },
      "execution_count": 14,
      "outputs": []
    },
    {
      "cell_type": "code",
      "source": [
        "import matplotlib.animation as animation\n",
        "\n"
      ],
      "metadata": {
        "id": "k6YerQ1KNTH3"
      },
      "execution_count": 15,
      "outputs": []
    },
    {
      "cell_type": "code",
      "source": [
        "P_global2 = np.zeros((nx, nz,nt), dtype = float)"
      ],
      "metadata": {
        "id": "ry2Dlq8fPiXF"
      },
      "execution_count": 16,
      "outputs": []
    },
    {
      "cell_type": "code",
      "source": [
        "p_min = np.min(P_global2)\n",
        "p_max = np.max(P_global2)"
      ],
      "metadata": {
        "id": "MVIfE3aTj6yL"
      },
      "execution_count": 17,
      "outputs": []
    },
    {
      "cell_type": "code",
      "source": [
        "f = P_global2.shape[2]\n",
        "print(f)"
      ],
      "metadata": {
        "colab": {
          "base_uri": "https://localhost:8080/"
        },
        "id": "7866pu3oRUvm",
        "outputId": "ed9fd707-45f0-4e91-c177-180ff029bdf4"
      },
      "execution_count": 18,
      "outputs": [
        {
          "output_type": "stream",
          "name": "stdout",
          "text": [
            "2500\n"
          ]
        }
      ]
    },
    {
      "cell_type": "code",
      "source": [
        "#P_global2 = np.zeros((nx, nz,nt), dtype = float)"
      ],
      "metadata": {
        "id": "f2x-emx5UAdU"
      },
      "execution_count": 19,
      "outputs": []
    },
    {
      "cell_type": "code",
      "source": [],
      "metadata": {
        "id": "uGpXSbqoUA9l"
      },
      "execution_count": 19,
      "outputs": []
    },
    {
      "cell_type": "code",
      "source": [
        "\n",
        "# change c1 and c2 to simulate propagation through heterogeneous media\n",
        "c1 = 343 \n",
        "c2 = 343\n",
        "dz = dx"
      ],
      "metadata": {
        "id": "59JeSR2mRtfN"
      },
      "execution_count": 20,
      "outputs": []
    },
    {
      "cell_type": "code",
      "source": [],
      "metadata": {
        "id": "FyyWt9bif_mz"
      },
      "execution_count": 20,
      "outputs": []
    },
    {
      "cell_type": "code",
      "source": [],
      "metadata": {
        "id": "I20kzqJuf_p0"
      },
      "execution_count": 20,
      "outputs": []
    },
    {
      "cell_type": "code",
      "source": [
        "for n in range(nt):\n",
        "\n",
        "  for i in range(2, nz-2):\n",
        "    if int(i * dx) <= inter_bound:\n",
        "\n",
        "\n",
        "    #   ad2px[i,:] = dt**2 * c1**2 *((-1.0/12*ap[i+2,:] + 4.0/3*ap[i+1,:] -5.0/2*ap[i,:] + 4.0/3*ap[i-1,:] - 1.0/12*ap[i-2,:])/dx**2)\n",
        "    # else:\n",
        "    #   ad2px[i,:] = dt**2 * c2**2 *((-1.0/12*ap[i+2,:] + 4.0/3*ap[i+1,:] -5.0/2*ap[i,:] + 4.0/3*ap[i-1,:] - 1.0/12*ap[i-2,:])/dx**2)\n",
        "\n",
        "\n",
        "      ad2px[i,:] = dt**2 * c1**2 *(ap[i+1,:] -2*ap[i,:] + ap[i-1,:] )\n",
        "    else:\n",
        "      ad2px[i,:] = dt**2 * c2**2 *(ap[i+1,:] -2*ap[i,:] + ap[i-1,:]) \n",
        "\n",
        "  for j in range(2, nx-2):\n",
        "\n",
        "    if (j * dz) <= inter_bound:\n",
        "\n",
        "      ad2pz[:,j] = dt**2 * c1**2 * (ap[:,j+1] -2*ap[:,j] + ap[:,j-1]) \n",
        "    else:\n",
        "      ad2pz[:,j] = dt**2 * c2**2 * (ap[:,j+1] -2*ap[:,j] + ap[:,j-1]) \n",
        "\n",
        "    \n",
        "  \n",
        "\n",
        "  apnew = 2*ap - apold + (ad2px + ad2pz)\n",
        "  apnew = apnew + sg * (-8 * f * ((n*dt)-t0) * np.exp(-4 * (f**2) *((n*dt)-t0)**2)) * dt**2\n",
        "  apold , ap = ap , apnew\n",
        "\n",
        "  P_global2[:,:,n] = ap\n",
        "\n",
        "\n",
        "\n",
        "\n",
        "\n",
        "\n",
        "\n",
        "\n",
        "\n",
        "\n",
        "\n",
        "\n"
      ],
      "metadata": {
        "id": "T-yD60xZn3XH"
      },
      "execution_count": 21,
      "outputs": []
    },
    {
      "cell_type": "code",
      "source": [
        "p_max = np.max(P_global2)\n",
        "p_max"
      ],
      "metadata": {
        "id": "UHFRcfT3RK2-",
        "colab": {
          "base_uri": "https://localhost:8080/"
        },
        "outputId": "9fdd351d-ef9b-4001-8a2e-dffc61f7c37c"
      },
      "execution_count": 22,
      "outputs": [
        {
          "output_type": "execute_result",
          "data": {
            "text/plain": [
              "3.271572930398867e-07"
            ]
          },
          "metadata": {},
          "execution_count": 22
        }
      ]
    },
    {
      "cell_type": "code",
      "source": [
        "p_min = np.min(P_global2)\n",
        "p_min"
      ],
      "metadata": {
        "colab": {
          "base_uri": "https://localhost:8080/"
        },
        "id": "0hBDZvVzFHlh",
        "outputId": "3c03c314-1bf7-4859-cb54-62877d7f7451"
      },
      "execution_count": 23,
      "outputs": [
        {
          "output_type": "execute_result",
          "data": {
            "text/plain": [
              "-3.1609564741679092e-06"
            ]
          },
          "metadata": {},
          "execution_count": 23
        }
      ]
    },
    {
      "cell_type": "code",
      "source": [],
      "metadata": {
        "id": "d8bbNhWUFHpM"
      },
      "execution_count": 23,
      "outputs": []
    },
    {
      "cell_type": "code",
      "source": [
        "import numpy as np\n",
        "import matplotlib.pyplot as plt\n",
        "import matplotlib.animation as animation\n",
        "plt.rcParams[\"figure.figsize\"] = [7.50, 7.50]\n",
        "plt.rcParams[\"figure.autolayout\"] = True\n",
        "#data = np.random.randn(800).reshape(10, 10, 8)\n",
        "fig, ax = plt.subplots(figsize=(8, 8))\n",
        "ax.set(ylim=(p_min, p_max))\n",
        "\n",
        "def animate(i):\n",
        "  ax.clear()\n",
        "  ax.contourf(x,z, P_global2[:, :, i])\n",
        "\n",
        "  ax.set_xlabel('distance in x direction')\n",
        "  ax.set_ylabel('distance in y direction')\n",
        "  ax.set_title('2D Acoustic wave propagation')\n",
        "  #fig.colorbar(ax=ax);\n",
        "\n",
        "\n",
        "anim = animation.FuncAnimation(fig, animate, interval=100, frames = f)\n",
        "#plt.xlabel('distance in x direction')\n",
        "#plt.ylabel('distance in y direction')\n",
        "#plt.colorbar()\n",
        "\n",
        "plt.show()"
      ],
      "metadata": {
        "colab": {
          "base_uri": "https://localhost:8080/",
          "height": 604
        },
        "id": "1BPA2eyMRK6F",
        "outputId": "435229c7-9521-4fa6-ea3e-a54c4413218e"
      },
      "execution_count": 24,
      "outputs": [
        {
          "output_type": "display_data",
          "data": {
            "text/plain": [
              "<Figure size 576x576 with 1 Axes>"
            ],
            "image/png": "[encoded data removed]"
          },
          "metadata": {
            "needs_background": "light"
          }
        }
      ]
    },
    {
      "cell_type": "code",
      "source": [
        "anim.save('2D_acoustic_wave_contourplot3.mp4')"
      ],
      "metadata": {
        "id": "BU6ewjJCRK81"
      },
      "execution_count": 25,
      "outputs": []
    },
    {
      "cell_type": "code",
      "source": [],
      "metadata": {
        "id": "zZy85PwaRK_s"
      },
      "execution_count": 25,
      "outputs": []
    },
    {
      "cell_type": "code",
      "source": [],
      "metadata": {
        "id": "oLkomG8an3cq"
      },
      "execution_count": 25,
      "outputs": []
    },
    {
      "cell_type": "code",
      "source": [],
      "metadata": {
        "id": "yTRIp2yjn3fc"
      },
      "execution_count": 25,
      "outputs": []
    }
  ]
}